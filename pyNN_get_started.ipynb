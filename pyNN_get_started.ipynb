{
  "nbformat": 4,
  "nbformat_minor": 0,
  "metadata": {
    "language_info": {
      "codemirror_mode": {
        "name": "ipython",
        "version": 3
      },
      "file_extension": ".py",
      "mimetype": "text/x-python",
      "name": "python",
      "nbconvert_exporter": "python",
      "pygments_lexer": "ipython3",
      "version": "3.8.5-final"
    },
    "orig_nbformat": 2,
    "kernelspec": {
      "name": "python3",
      "display_name": "Python 3.8.5 64-bit ('MachineLearning': conda)",
      "metadata": {
        "interpreter": {
          "hash": "04ff9afdc7d1490bf12a0db0e835ff63412e01e124c119117e88b34a3fc5e95d"
        }
      }
    },
    "colab": {
      "name": "get_started.ipynb",
      "provenance": [],
      "collapsed_sections": []
    }
  },
  "cells": [
    {
      "cell_type": "markdown",
      "metadata": {
        "id": "Q75l52r8HlOj"
      },
      "source": [
        "## PyNN Simulation Intro Lab\n",
        "This Colab Notebook contains unofficial solutions to problems 1.1-4.1 in this PyNN\n",
        "[Intro Lab](http://spinnakermanchester.github.io/spynnaker/5.0.0/RunningPyNNSimulationsonSpiNNaker-LabManual.pdf). I did not complete problems 4.2 or 5 as of yet, but I may finish them in the future. I offer no guarantees of the correctness of these solutions, but I hope that this document helps you get set up with PyNN and to start trying it out with minimal issues. Other tutorials that may be useful can be found [here](http://spinnakermanchester.github.io/workshops/eighth.html) and [here](http://spinnakermanchester.github.io/spynnaker/5.0.0/). The pyNN documentation is [here](http://neuralensemble.org/docs/PyNN/), and a version of the HBP Neuromorphic Computing Platform document can be found [here](https://electronicvisions.github.io/hbp-sp9-guidebook/).\n",
        "\n",
        "Matthew So (Apeirogons), Jan 20, 2021"
      ]
    },
    {
      "cell_type": "code",
      "metadata": {
        "colab": {
          "base_uri": "https://localhost:8080/"
        },
        "id": "XBJauimh3zza",
        "outputId": "5bf63eef-4d8e-4aa8-82bf-bd3b29ce5b0d"
      },
      "source": [
        "!pip install neuron\r\n",
        "!pip install brian2\r\n",
        "!pip install pyNN "
      ],
      "execution_count": 1,
      "outputs": [
        {
          "output_type": "stream",
          "text": [
            "Collecting neuron\n",
            "\u001b[?25l  Downloading https://files.pythonhosted.org/packages/a6/ca/02056f12d4385a389a399eea1bb2823c0c45647513b02d02d625414ba965/NEURON-7.8.2-cp36-cp36m-manylinux1_x86_64.whl (8.7MB)\n",
            "\u001b[K     |████████████████████████████████| 8.7MB 7.1MB/s \n",
            "\u001b[?25hRequirement already satisfied: numpy>=1.9.3 in /usr/local/lib/python3.6/dist-packages (from neuron) (1.19.5)\n",
            "Installing collected packages: neuron\n",
            "Successfully installed neuron-7.8.2\n",
            "Collecting brian2\n",
            "\u001b[?25l  Downloading https://files.pythonhosted.org/packages/9a/c7/565012c479953d041d5e828938515d3c402d0c3f4942180f1c44cb0f472e/Brian2-2.4.2.tar.gz (1.2MB)\n",
            "\u001b[K     |████████████████████████████████| 1.2MB 7.0MB/s \n",
            "\u001b[?25hRequirement already satisfied: numpy>=1.15 in /usr/local/lib/python3.6/dist-packages (from brian2) (1.19.5)\n",
            "Requirement already satisfied: cython>=0.29 in /usr/local/lib/python3.6/dist-packages (from brian2) (0.29.21)\n",
            "Collecting sympy>=1.2\n",
            "\u001b[?25l  Downloading https://files.pythonhosted.org/packages/ff/69/b16fc81b939d3efdd0b552f2e3e54f7fa1423d0c320cced2e69e675dde26/sympy-1.7.1-py3-none-any.whl (5.9MB)\n",
            "\u001b[K     |████████████████████████████████| 5.9MB 24.7MB/s \n",
            "\u001b[?25hRequirement already satisfied: pyparsing in /usr/local/lib/python3.6/dist-packages (from brian2) (2.4.7)\n",
            "Requirement already satisfied: jinja2>=2.7 in /usr/local/lib/python3.6/dist-packages (from brian2) (2.11.2)\n",
            "Requirement already satisfied: setuptools>=24.2 in /usr/local/lib/python3.6/dist-packages (from brian2) (51.1.2)\n",
            "Requirement already satisfied: mpmath>=0.19 in /usr/local/lib/python3.6/dist-packages (from sympy>=1.2->brian2) (1.1.0)\n",
            "Requirement already satisfied: MarkupSafe>=0.23 in /usr/local/lib/python3.6/dist-packages (from jinja2>=2.7->brian2) (1.1.1)\n",
            "Building wheels for collected packages: brian2\n",
            "  Building wheel for brian2 (setup.py) ... \u001b[?25l\u001b[?25hdone\n",
            "  Created wheel for brian2: filename=Brian2-2.4.2-cp36-cp36m-linux_x86_64.whl size=1257533 sha256=49e23d14e8513b66b4a9b789cacaa6602e7c3db65959c13c91f1430c15490e5e\n",
            "  Stored in directory: /root/.cache/pip/wheels/5d/4b/cf/ef50e71df5479d67f981cbb17b1d842381019d27ba144d57de\n",
            "Successfully built brian2\n",
            "Installing collected packages: sympy, brian2\n",
            "  Found existing installation: sympy 1.1.1\n",
            "    Uninstalling sympy-1.1.1:\n",
            "      Successfully uninstalled sympy-1.1.1\n",
            "Successfully installed brian2-2.4.2 sympy-1.7.1\n",
            "Collecting pyNN\n",
            "\u001b[?25l  Downloading https://files.pythonhosted.org/packages/21/64/716258bf663871b5cdec0521dc76727153bbe750fd1d804926f6ac1f8781/PyNN-0.9.6.tar.gz (3.2MB)\n",
            "\u001b[K     |████████████████████████████████| 3.2MB 9.1MB/s \n",
            "\u001b[?25hRequirement already satisfied: numpy>=1.13.0 in /usr/local/lib/python3.6/dist-packages (from pyNN) (1.19.5)\n",
            "Collecting lazyarray>=0.3.4\n",
            "  Downloading https://files.pythonhosted.org/packages/c1/05/b25a6a6cbbda1412b17c081e31909b16b648935b2472fe6d04912f6570ce/lazyarray-0.3.4.tar.gz\n",
            "Collecting neo>=0.8.0\n",
            "\u001b[?25l  Downloading https://files.pythonhosted.org/packages/10/1b/bbd5e20934e21ebbae242cacc731a7f32aabfbf2677c240ef082165aea0c/neo-0.9.0.tar.gz (2.1MB)\n",
            "\u001b[K     |████████████████████████████████| 2.1MB 38.5MB/s \n",
            "\u001b[?25hCollecting quantities>=0.12.1\n",
            "\u001b[?25l  Downloading https://files.pythonhosted.org/packages/2b/4f/2e8ce7d6c16fb07c43036f8539962322b2bf241e7397e87f318a1aa2f7c4/quantities-0.12.4.tar.gz (83kB)\n",
            "\u001b[K     |████████████████████████████████| 92kB 9.1MB/s \n",
            "\u001b[?25hBuilding wheels for collected packages: pyNN, lazyarray, neo, quantities\n",
            "  Building wheel for pyNN (setup.py) ... \u001b[?25l\u001b[?25hdone\n",
            "  Created wheel for pyNN: filename=PyNN-0.9.6-cp36-none-any.whl size=703557 sha256=d25bc012695945df0f1c67f840cb21523fff52e170c0f77d442908a2aff2ab18\n",
            "  Stored in directory: /root/.cache/pip/wheels/68/e8/ae/f1ea4d62bf1495abfce401a9a5870ba244359102ce9b406237\n",
            "  Building wheel for lazyarray (setup.py) ... \u001b[?25l\u001b[?25hdone\n",
            "  Created wheel for lazyarray: filename=lazyarray-0.3.4-cp36-none-any.whl size=8545 sha256=d3afc7500f8da5966b05a131e6aa27f66d5c15c292bf28c1620a1bf7ae75ce0a\n",
            "  Stored in directory: /root/.cache/pip/wheels/eb/a9/3f/83221f5fcee1c650aecd0cef5c414190510957cb260cac3c79\n",
            "  Building wheel for neo (setup.py) ... \u001b[?25l\u001b[?25hdone\n",
            "  Created wheel for neo: filename=neo-0.9.0-cp36-none-any.whl size=577980 sha256=275cd6551d9c19821d7ff1b57b9bb0104d1b1f77ad74b70425621158dd9382b2\n",
            "  Stored in directory: /root/.cache/pip/wheels/7d/33/e6/665d4b8db6b43ee21468fdf757b19a971737276c9d41da7249\n",
            "  Building wheel for quantities (setup.py) ... \u001b[?25l\u001b[?25hdone\n",
            "  Created wheel for quantities: filename=quantities-0.12.4-cp36-none-any.whl size=79167 sha256=24e1f22d376cf16bdcc6c8894c798c6af58c0733583ae65f59b0471eaa6e1c30\n",
            "  Stored in directory: /root/.cache/pip/wheels/2c/27/a5/62fb2a57d167d7b7164278de7399ba1504321c1d6c3a3802d5\n",
            "Successfully built pyNN lazyarray neo quantities\n",
            "Installing collected packages: lazyarray, quantities, neo, pyNN\n",
            "Successfully installed lazyarray-0.3.4 neo-0.9.0 pyNN-0.9.6 quantities-0.12.4\n"
          ],
          "name": "stdout"
        }
      ]
    },
    {
      "cell_type": "code",
      "metadata": {
        "id": "lGmTPQBn3yz6",
        "colab": {
          "base_uri": "https://localhost:8080/"
        },
        "outputId": "21f67b35-ae06-4241-a65c-09d9e5a982bc"
      },
      "source": [
        "# While the brian2 simulator can be used as a backend for pyNN, it is slower then NEURON. \n",
        "# However, pyNN.neuron lacks the RandomDistribution() for some reason, so we import the brian2 backend for it.\n",
        "import pyNN.brian2 as brian\n",
        "\n",
        "# NEURON is the main simulation backend.\n",
        "import pyNN.neuron as sim\n",
        "import matplotlib.pyplot as plt\n",
        "import numpy as np\n",
        "import pyNN.utility.plotting as plot"
      ],
      "execution_count": 2,
      "outputs": [
        {
          "output_type": "stream",
          "text": [
            "WARNING    /usr/local/lib/python3.6/dist-packages/pyNN/neuron/__init__.py:14: UserWarning: mpi4py not available\n",
            "  warnings.warn(\"mpi4py not available\")\n",
            " [py.warnings]\n"
          ],
          "name": "stderr"
        }
      ]
    },
    {
      "cell_type": "code",
      "metadata": {
        "colab": {
          "base_uri": "https://localhost:8080/",
          "height": 222
        },
        "id": "tqBnOpE93y0A",
        "outputId": "48a10e2b-704c-415e-c0ce-74c2375abe71"
      },
      "source": [
        "# Task 1.1: A simple neural network [Easy]\n",
        "\n",
        "sim.setup(timestep=1.0)\n",
        "\n",
        "inp_source_0 = sim.Population(1, sim.SpikeSourceArray(spike_times=[0]), label='inp_0')\n",
        "inp_source_1 = sim.Population(1, sim.SpikeSourceArray(spike_times=[1000]), label='inp_1')\n",
        "LIF_neurons = sim.Population(2, sim.IF_curr_exp(), label='LIF')\n",
        "connection_0 = sim.Projection(inp_source_0, LIF_neurons, sim.OneToOneConnector(), synapse_type=sim.StaticSynapse(weight=5, delay=2))\n",
        "\n",
        "LIF_neurons.record(['spikes'])\n",
        "simtime = 10\n",
        "sim.run(simtime)\n",
        "neo = LIF_neurons.get_data(variables=['spikes'])\n",
        "spikes = neo.segments[0].spiketrains\n",
        "sim.end()\n",
        "\n",
        "plot.Figure(\n",
        "    plot.Panel(spikes, yticks=True, markersize=5, xlim=(0, simtime)),\n",
        "    title=\"Task 1.1\",\n",
        "    annotations=\"Simulated with {}\".format('brian2')\n",
        "    )\n",
        "plt.show()\n",
        "\n"
      ],
      "execution_count": 3,
      "outputs": [
        {
          "output_type": "display_data",
          "data": {
            "image/png": "[encoded data removed]",
            "text/plain": [
              "<Figure size 432x230.4 with 1 Axes>"
            ]
          },
          "metadata": {
            "tags": [],
            "needs_background": "light"
          }
        }
      ]
    },
    {
      "cell_type": "code",
      "metadata": {
        "colab": {
          "base_uri": "https://localhost:8080/",
          "height": 593
        },
        "id": "7fv0F-B03y0B",
        "outputId": "dcaaa253-8661-42f3-f0cd-ac6fb429fb59"
      },
      "source": [
        "# Task 1.2: Changing parameters [Easy]\n",
        "\n",
        "sim.setup(timestep=1.0)\n",
        "\n",
        "inp_source_0 = sim.Population(1, sim.SpikeSourceArray(spike_times=[0]), label='inp_0')\n",
        "inp_source_1 = sim.Population(1, sim.SpikeSourceArray(spike_times=[1000]), label='inp_1')\n",
        "LIF_neurons = sim.Population(2, sim.IF_curr_exp(tau_syn_E=1.0), label='LIF')\n",
        "connection_0 = sim.Projection(inp_source_0, LIF_neurons, sim.OneToOneConnector(), synapse_type=sim.StaticSynapse(weight=5, delay=2))\n",
        "\n",
        "LIF_neurons.record(['spikes', 'v'])\n",
        "simtime = 10\n",
        "sim.run(simtime)\n",
        "neo = LIF_neurons.get_data(variables=['spikes', 'v'])\n",
        "spikes = neo.segments[0].spiketrains\n",
        "v = neo.segments[0].filter(name='v')[0]\n",
        "print(v)\n",
        "sim.end()\n",
        "\n",
        "\n",
        "plot.Figure(\n",
        "# plot voltage for first ([0]) neuron\n",
        "plot.Panel(v, ylabel=\"Membrane potential (mV)\",\n",
        "data_labels=[LIF_neurons.label], yticks=True, xlim=(0, simtime)),\n",
        "# plot spikes (or in this case spike)\n",
        "plot.Panel(spikes, yticks=True, markersize=5, xlim=(0, simtime)),\n",
        "title=\"Task 1.2\",\n",
        "annotations=\"Simulated with {}\".format('brian2')\n",
        ")\n",
        "plt.show()\n",
        "\n"
      ],
      "execution_count": 4,
      "outputs": [
        {
          "output_type": "stream",
          "text": [
            "WARNING    /usr/local/lib/python3.6/dist-packages/pyNN/neuron/recording.py:115: FutureWarning: arrays to stack must be passed as a \"sequence\" type such as list or tuple. Support for non-sequence iterables such as generators is deprecated as of NumPy 1.16 and will raise an error in the future.\n",
            "  signals = numpy.vstack((id._cell.traces[variable] for id in ids)).T\n",
            " [py.warnings]\n"
          ],
          "name": "stderr"
        },
        {
          "output_type": "stream",
          "text": [
            "[[-65.         -65.        ]\n",
            " [-65.         -65.        ]\n",
            " [-65.         -65.        ]\n",
            " [-60.23809524 -65.        ]\n",
            " [-58.71304574 -65.        ]\n",
            " [-58.36797079 -65.        ]\n",
            " [-58.44670043 -65.        ]\n",
            " [-58.67154498 -65.        ]\n",
            " [-58.94081452 -65.        ]\n",
            " [-59.21754358 -65.        ]\n",
            " [-59.48855635 -65.        ]] mV\n"
          ],
          "name": "stdout"
        },
        {
          "output_type": "display_data",
          "data": {
            "image/png": "[encoded data removed]",
            "text/plain": [
              "<Figure size 432x374.4 with 2 Axes>"
            ]
          },
          "metadata": {
            "tags": [],
            "needs_background": "light"
          }
        }
      ]
    },
    {
      "cell_type": "code",
      "metadata": {
        "colab": {
          "base_uri": "https://localhost:8080/",
          "height": 680
        },
        "id": "7xOzJakY3y0B",
        "outputId": "e0588ebe-eee0-4eeb-8cde-a1f3edd36211"
      },
      "source": [
        "# Task 2.1: Synfire Chain [Moderate]\n",
        "\n",
        "sim.setup(timestep=1.0)\n",
        "\n",
        "inp_source_0 = sim.Population(1, sim.SpikeSourceArray(spike_times=[0.0]))\n",
        "LIF_neurons = sim.Population(100, sim.IF_curr_exp(), label='LIF')\n",
        "\n",
        "inp_first_connector = sim.FromListConnector([(0, 0)])\n",
        "connection_0 = sim.Projection(inp_source_0, LIF_neurons, inp_first_connector,synapse_type=sim.StaticSynapse(weight=5, delay=1)) \n",
        "\n",
        "between_connector = sim.FromListConnector([(i, i+1) for i in range(len(LIF_neurons)-1)])\n",
        "connection_between = sim.Projection(LIF_neurons, LIF_neurons, between_connector, synapse_type=sim.StaticSynapse(weight=5, delay=5))\n",
        "\n",
        "recurrent_connector = sim.FromListConnector([(99, 0)])\n",
        "\n",
        "connection_recurrent = sim.Projection(LIF_neurons, LIF_neurons, recurrent_connector, synapse_type=sim.StaticSynapse(weight=5, delay=5))\n",
        "\n",
        "LIF_neurons.record(['spikes', 'v'])\n",
        "simtime = 2000\n",
        "sim.run(simtime)\n",
        "neo = LIF_neurons.get_data(variables=['spikes', 'v'])\n",
        "spikes = neo.segments[0].spiketrains\n",
        "v = neo.segments[0].filter(name='v')[0]\n",
        "sim.end()\n",
        "\n",
        "plt.figure(figsize=(15, 10))\n",
        "plot.Figure(\n",
        "    plot.Panel(spikes, yticks=True, markersize=5, xlim=(0, simtime)),\n",
        "    title=\"Task 2.1\",\n",
        "    annotations=\"Simulated with {}\".format('brian2')\n",
        "    )\n",
        "plt.show()\n",
        "\n"
      ],
      "execution_count": 5,
      "outputs": [
        {
          "output_type": "stream",
          "text": [
            "WARNING    /usr/local/lib/python3.6/dist-packages/pyNN/neuron/recording.py:115: FutureWarning: arrays to stack must be passed as a \"sequence\" type such as list or tuple. Support for non-sequence iterables such as generators is deprecated as of NumPy 1.16 and will raise an error in the future.\n",
            "  signals = numpy.vstack((id._cell.traces[variable] for id in ids)).T\n",
            " [py.warnings]\n"
          ],
          "name": "stderr"
        },
        {
          "output_type": "display_data",
          "data": {
            "image/png": "[encoded data removed]",
            "text/plain": [
              "<Figure size 1080x720 with 1 Axes>"
            ]
          },
          "metadata": {
            "tags": [],
            "needs_background": "light"
          }
        }
      ]
    },
    {
      "cell_type": "code",
      "metadata": {
        "colab": {
          "base_uri": "https://localhost:8080/",
          "height": 680
        },
        "id": "w3ndlq793y0C",
        "outputId": "c1d5b062-03be-41ec-ca1c-6ca626bec4cb"
      },
      "source": [
        "# Task 2.2: Random Values\n",
        "\n",
        "sim.setup(timestep=1.0)\n",
        "simtime = 5000\n",
        "\n",
        "inp_source_0 = sim.Population(1, sim.SpikeSourceArray(spike_times=[0.0]))\n",
        "LIF_neurons = sim.Population(100, sim.IF_curr_exp(), label='LIF')\n",
        "\n",
        "inp_first_connector = sim.FromListConnector([(0, 0)])\n",
        "connection_0 = sim.Projection(inp_source_0, LIF_neurons, inp_first_connector,synapse_type=sim.StaticSynapse(weight=5, delay=1)) \n",
        "\n",
        "between_connector = sim.FromListConnector([(i, i+1) for i in range(len(LIF_neurons)-1)])\n",
        "connection_between = sim.Projection(LIF_neurons, LIF_neurons, between_connector, synapse_type=sim.StaticSynapse(weight=5, delay=brian.RandomDistribution('uniform', low=1.0, high=15.0)))\n",
        "\n",
        "recurrent_connector = sim.FromListConnector([(99, 0)])\n",
        "\n",
        "connection_recurrent = sim.Projection(LIF_neurons, LIF_neurons, recurrent_connector, synapse_type=sim.StaticSynapse(weight=5, delay=brian.RandomDistribution('uniform', low=1.0, high=15.0)))\n",
        "\n",
        "LIF_neurons.record(['spikes', 'v'])\n",
        "\n",
        "sim.run(simtime)\n",
        "neo = LIF_neurons.get_data(variables=['spikes', 'v'])\n",
        "spikes = neo.segments[0].spiketrains\n",
        "v = neo.segments[0].filter(name='v')[0]\n",
        "sim.end()\n",
        "\n",
        "plt.figure(figsize=(15, 10))\n",
        "plot.Figure(\n",
        "    plot.Panel(spikes, yticks=True, markersize=5, xlim=(0, simtime)),\n",
        "    title=\"Task 2.2\",\n",
        "    annotations=\"Simulated with {}\".format('brian2')\n",
        "    )\n",
        "plt.show()\n",
        "\n"
      ],
      "execution_count": 6,
      "outputs": [
        {
          "output_type": "stream",
          "text": [
            "WARNING    /usr/local/lib/python3.6/dist-packages/pyNN/neuron/recording.py:115: FutureWarning: arrays to stack must be passed as a \"sequence\" type such as list or tuple. Support for non-sequence iterables such as generators is deprecated as of NumPy 1.16 and will raise an error in the future.\n",
            "  signals = numpy.vstack((id._cell.traces[variable] for id in ids)).T\n",
            " [py.warnings]\n"
          ],
          "name": "stderr"
        },
        {
          "output_type": "display_data",
          "data": {
            "image/png": "[encoded data removed]",
            "text/plain": [
              "<Figure size 1080x720 with 1 Axes>"
            ]
          },
          "metadata": {
            "tags": [],
            "needs_background": "light"
          }
        }
      ]
    },
    {
      "cell_type": "code",
      "metadata": {
        "colab": {
          "base_uri": "https://localhost:8080/",
          "height": 631
        },
        "id": "DCDjNtGV3y0C",
        "outputId": "55e24d03-4b1a-4a01-c97b-bc3783e38eaf"
      },
      "source": [
        "# Task 3.1: Balanced Random Cortex-like Network\n",
        "\n",
        "ts = 0.1\n",
        "sim.setup(timestep=ts)\n",
        "\n",
        "exc = sim.Population(80, sim.IF_curr_exp(), label='exc')\n",
        "inh = sim.Population(20, sim.IF_curr_exp(), label='inh')\n",
        "\n",
        "\n",
        "exc_stim = sim.Population(80, sim.SpikeSourcePoisson(rate=1000))\n",
        "inh_stim = sim.Population(20, sim.SpikeSourcePoisson(rate=1000))\n",
        "\n",
        "excstim_exc = sim.Projection(exc_stim, exc, sim.OneToOneConnector(), synapse_type=sim.StaticSynapse(weight=0.1, delay=1))\n",
        "inhstim_inh = sim.Projection(inh_stim, inh, sim.OneToOneConnector(), synapse_type=sim.StaticSynapse(weight=0.1, delay=1))\n",
        "\n",
        "exc_inh = sim.Projection(exc, inh, sim.FixedProbabilityConnector(0.1), synapse_type = sim.StaticSynapse(weight=brian.RandomDistribution('normal_clipped', mu=0.1, sigma=0.1, low=0, high=np.inf), delay = brian.RandomDistribution('normal_clipped', mu=1.5, sigma=0.75, low=ts*1, high=ts*144)))\n",
        "\n",
        "exc_exc = sim.Projection(exc, exc, sim.FixedProbabilityConnector(0.1), synapse_type = sim.StaticSynapse(weight=brian.RandomDistribution('normal_clipped', mu=0.1, sigma=0.1, low=0, high=np.inf), delay = brian.RandomDistribution('normal_clipped', mu=1.5, sigma=0.75, low=ts*1, high=ts*144)))\n",
        "\n",
        "inh_exc = sim.Projection(inh, exc, sim.FixedProbabilityConnector(0.1), synapse_type = sim.StaticSynapse(weight=brian.RandomDistribution('normal_clipped', mu=-0.4, sigma=0.1, low=-np.inf, high=0), delay = brian.RandomDistribution('normal_clipped', mu=0.75, sigma=0.375, low=ts*1, high=ts*144)))\n",
        "\n",
        "inh_inh = sim.Projection(inh, exc, sim.FixedProbabilityConnector(0.1), synapse_type = sim.StaticSynapse(weight=brian.RandomDistribution('normal_clipped', mu=-0.4, sigma=0.1, low=-np.inf, high=0), delay = brian.RandomDistribution('normal_clipped', mu=0.75, sigma=0.375, low=ts*1, high=ts*144)))\n",
        "\n",
        "exc.initialize(v=brian.RandomDistribution('uniform', low=-65, high=-55))\n",
        "inh.initialize(v=brian.RandomDistribution('uniform', low=-65, high=-55))\n",
        "\n",
        "exc.record(['spikes'])\n",
        "simtime=1000\n",
        "sim.run(simtime)\n",
        "neo = exc.get_data(variables=['spikes'])\n",
        "spikes = neo.segments[0].spiketrains\n",
        "\n",
        "sim.end()\n",
        "\n",
        "plt.figure(figsize=(15, 10))\n",
        "plot.Figure(\n",
        "    plot.Panel(spikes, yticks=True, markersize=5, xlim=(0, simtime)),\n",
        "    title=\"Task 3.1\",\n",
        "    annotations=\"Simulated with {}\".format('brian2')\n",
        "    )\n",
        "plt.show()\n"
      ],
      "execution_count": 7,
      "outputs": [
        {
          "output_type": "display_data",
          "data": {
            "image/png": "[encoded data removed]",
            "text/plain": [
              "<Figure size 1080x720 with 1 Axes>"
            ]
          },
          "metadata": {
            "tags": [],
            "needs_background": "light"
          }
        }
      ]
    },
    {
      "cell_type": "code",
      "metadata": {
        "id": "g7JpGueg3y0D",
        "colab": {
          "base_uri": "https://localhost:8080/",
          "height": 631
        },
        "outputId": "f99730f8-c5a2-4d06-ebf7-955e4a69f886"
      },
      "source": [
        "# Task 3.1: Balanced Random Cortex-like Network\n",
        "\n",
        "ts = 0.1\n",
        "sim.setup(timestep=ts)\n",
        "\n",
        "exc = sim.Population(80, sim.IF_curr_exp(), label='exc')\n",
        "inh = sim.Population(20, sim.IF_curr_exp(), label='inh')\n",
        "\n",
        "\n",
        "exc_stim = sim.Population(80, sim.SpikeSourcePoisson(rate=1000))\n",
        "inh_stim = sim.Population(20, sim.SpikeSourcePoisson(rate=1000))\n",
        "\n",
        "excstim_exc = sim.Projection(exc_stim, exc, sim.OneToOneConnector(), synapse_type=sim.StaticSynapse(weight=0.1, delay=1))\n",
        "inhstim_inh = sim.Projection(inh_stim, inh, sim.OneToOneConnector(), synapse_type=sim.StaticSynapse(weight=0.1, delay=1))\n",
        "\n",
        "exc_inh = sim.Projection(exc, inh, sim.FixedProbabilityConnector(0.1), synapse_type = sim.StaticSynapse(weight=brian.RandomDistribution('normal_clipped', mu=0.11, sigma=0.1, low=0, high=np.inf), delay = brian.RandomDistribution('normal_clipped', mu=1.5, sigma=0.75, low=ts*1, high=ts*144)))\n",
        "\n",
        "exc_exc = sim.Projection(exc, exc, sim.FixedProbabilityConnector(0.1), synapse_type = sim.StaticSynapse(weight=brian.RandomDistribution('normal_clipped', mu=0.11, sigma=0.1, low=0, high=np.inf), delay = brian.RandomDistribution('normal_clipped', mu=1.5, sigma=0.75, low=ts*1, high=ts*144)))\n",
        "\n",
        "inh_exc = sim.Projection(inh, exc, sim.FixedProbabilityConnector(0.1), synapse_type = sim.StaticSynapse(weight=brian.RandomDistribution('normal_clipped', mu=-0.44, sigma=0.1, low=-np.inf, high=0), delay = brian.RandomDistribution('normal_clipped', mu=0.75, sigma=0.375, low=ts*1, high=ts*144)))\n",
        "\n",
        "inh_inh = sim.Projection(inh, exc, sim.FixedProbabilityConnector(0.1), synapse_type = sim.StaticSynapse(weight=brian.RandomDistribution('normal_clipped', mu=-0.44, sigma=0.1, low=-np.inf, high=0), delay = brian.RandomDistribution('normal_clipped', mu=0.75, sigma=0.375, low=ts*1, high=ts*144)))\n",
        "\n",
        "exc.initialize(v=brian.RandomDistribution('uniform', low=-65, high=-55))\n",
        "inh.initialize(v=brian.RandomDistribution('uniform', low=-65, high=-55))\n",
        "\n",
        "exc.record(['spikes'])\n",
        "simtime=1000\n",
        "sim.run(simtime)\n",
        "neo = exc.get_data(variables=['spikes'])\n",
        "spikes = neo.segments[0].spiketrains\n",
        "\n",
        "sim.end()\n",
        "\n",
        "plt.figure(figsize=(15, 10))\n",
        "plot.Figure(\n",
        "    plot.Panel(spikes, yticks=True, markersize=5, xlim=(0, simtime)),\n",
        "    title=\"Task 3.1\",\n",
        "    annotations=\"Simulated with {}\".format('brian2')\n",
        "    )\n",
        "plt.show()\n"
      ],
      "execution_count": 8,
      "outputs": [
        {
          "output_type": "display_data",
          "data": {
            "image/png": "[encoded data removed]",
            "text/plain": [
              "<Figure size 1080x720 with 1 Axes>"
            ]
          },
          "metadata": {
            "tags": [],
            "needs_background": "light"
          }
        }
      ]
    },
    {
      "cell_type": "code",
      "metadata": {
        "colab": {
          "base_uri": "https://localhost:8080/",
          "height": 1000
        },
        "id": "SWmfXtbd3y0E",
        "outputId": "34e2906c-dbc9-4962-9e27-8e7bf1d59978"
      },
      "source": [
        "sim.setup(timestep=1)\r\n",
        "pop_0 = sim.Population(2, sim.IF_curr_exp())\r\n",
        "timing_rule = sim.SpikePairRule(tau_plus=20.0, tau_minus=20.0,\r\n",
        "A_plus=0.5, A_minus=0.5)\r\n",
        "weight_rule = sim.AdditiveWeightDependence(w_max=5.0, w_min=0.0)\r\n",
        "\r\n",
        "stdp = sim.STDPMechanism(timing_dependence = timing_rule, weight_dependence = weight_rule, weight=0.1, delay=3)\r\n",
        "\r\n",
        "between_connection = sim.Projection(pop_0, pop_0, sim.FromListConnector([(0, 1)]), synapse_type=stdp)\r\n",
        "\r\n",
        "stim_0 = sim.Population(1, sim.SpikeSourceArray(spike_times = [] + [2600, 2700, 2800, 2900]))\r\n",
        "stim_1 = sim.Population(1, sim.SpikeSourceArray(spike_times = []))\r\n",
        "stim_conn_0 = sim.Projection(stim_0, pop_0, sim.FromListConnector([(0, 0)]), synapse_type=sim.StaticSynapse(weight=5, delay=2))\r\n",
        "stim_conn_1 = sim.Projection(stim_1, pop_0, sim.FromListConnector([(0, 1)]), synapse_type=sim.StaticSynapse(weight=5, delay=2))\r\n",
        "pop_0.record(['spikes'])\r\n",
        "\r\n",
        "simtime=3000\r\n",
        "sim.run(simtime)\r\n",
        "neo = pop_0.get_data(variables=['spikes'])\r\n",
        "spikes = neo.segments[0].spiketrains\r\n",
        "\r\n",
        "plt.figure(figsize=(15, 10))\r\n",
        "plot.Figure(\r\n",
        "    plot.Panel(spikes, yticks=True, markersize=5, xlim=(0, simtime)),\r\n",
        "    title=\"Task 4.1 - No STDP\",\r\n",
        "    annotations=\"Simulated with {}\".format('brian2'))\r\n",
        "plt.show()\r\n",
        "\r\n",
        "print('No STDP: Connection weights')\r\n",
        "print(between_connection.get('weight', format='array'))\r\n",
        "sim.end()\r\n",
        "\r\n",
        "\r\n",
        "\r\n",
        "sim.setup(timestep=1)\r\n",
        "pop_0 = sim.Population(2, sim.IF_curr_exp())\r\n",
        "timing_rule = sim.SpikePairRule(tau_plus=20.0, tau_minus=20.0,\r\n",
        "A_plus=0.5, A_minus=0.5)\r\n",
        "weight_rule = sim.AdditiveWeightDependence(w_max=5.0, w_min=0.0)\r\n",
        "\r\n",
        "stdp = sim.STDPMechanism(timing_dependence = timing_rule, weight_dependence = weight_rule, weight=0.1, delay=3)\r\n",
        "\r\n",
        "between_connection = sim.Projection(pop_0, pop_0, sim.FromListConnector([(0, 1)]), synapse_type=stdp)\r\n",
        "\r\n",
        "stim_0 = sim.Population(1, sim.SpikeSourceArray(spike_times = [25*x for x in range(100)] + [2600, 2700, 2800, 2900]))\r\n",
        "stim_1 = sim.Population(1, sim.SpikeSourceArray(spike_times = [25*x+2 for x in range(100)]))\r\n",
        "stim_conn_0 = sim.Projection(stim_0, pop_0, sim.FromListConnector([(0, 0)]), synapse_type=sim.StaticSynapse(weight=5, delay=2))\r\n",
        "stim_conn_1 = sim.Projection(stim_1, pop_0, sim.FromListConnector([(0, 1)]), synapse_type=sim.StaticSynapse(weight=5, delay=2))\r\n",
        "pop_0.record(['spikes'])\r\n",
        "\r\n",
        "simtime=3000\r\n",
        "sim.run(simtime)\r\n",
        "neo = pop_0.get_data(variables=['spikes'])\r\n",
        "spikes = neo.segments[0].spiketrains\r\n",
        "\r\n",
        "plt.figure(figsize=(15, 10))\r\n",
        "plot.Figure(\r\n",
        "    plot.Panel(spikes, yticks=True, markersize=5, xlim=(0, simtime)),\r\n",
        "    title=\"Task 4.1 - with STDP\",\r\n",
        "    annotations=\"Simulated with {}\".format('brian2'))\r\n",
        "plt.show()\r\n",
        "#plt.figure(figsize=(15, 10))\r\n",
        "#plot.Figure(\r\n",
        "#    plot.Panel(spikes_1, yticks=True, markersize=5, xlim=(0, simtime)),\r\n",
        "#    title=\"Task 3.2\",\r\n",
        "#    annotations=\"Simulated with {}\".format('brian2'))\r\n",
        "#plt.show()\r\n",
        "print('With STDP: Connection weights')\r\n",
        "print(between_connection.get('weight', format='array'))\r\n",
        "sim.end()\r\n",
        "\r\n",
        "\r\n"
      ],
      "execution_count": 9,
      "outputs": [
        {
          "output_type": "display_data",
          "data": {
            "image/png": "[encoded data removed]",
            "text/plain": [
              "<Figure size 1080x720 with 1 Axes>"
            ]
          },
          "metadata": {
            "tags": [],
            "needs_background": "light"
          }
        },
        {
          "output_type": "stream",
          "text": [
            "No STDP: Connection weights\n",
            "[[nan 0.1]\n",
            " [nan nan]]\n"
          ],
          "name": "stdout"
        },
        {
          "output_type": "display_data",
          "data": {
            "image/png": "[encoded data removed]",
            "text/plain": [
              "<Figure size 1080x720 with 1 Axes>"
            ]
          },
          "metadata": {
            "tags": [],
            "needs_background": "light"
          }
        },
        {
          "output_type": "stream",
          "text": [
            "With STDP: Connection weights\n",
            "[[nan  5.]\n",
            " [nan nan]]\n"
          ],
          "name": "stdout"
        }
      ]
    }
  ]
}